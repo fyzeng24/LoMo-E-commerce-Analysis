{
 "cells": [
  {
   "cell_type": "code",
   "execution_count": 2,
   "id": "2d0bfe18",
   "metadata": {},
   "outputs": [],
   "source": [
    "import pandas as pd"
   ]
  },
  {
   "cell_type": "code",
   "execution_count": 3,
   "id": "39d79d4d",
   "metadata": {},
   "outputs": [],
   "source": [
    "# 读取CSV文件\n",
    "file_path = r'D:\\EBAC\\EBA5002 Business Analytics Practice\\EBA2.5 BAP Practice Project\\Analysis\\Analysis Data.csv'\n",
    "df = pd.read_csv(file_path)"
   ]
  },
  {
   "cell_type": "code",
   "execution_count": 6,
   "id": "5f893016",
   "metadata": {},
   "outputs": [],
   "source": [
    "# 使用groupby来计算每个product_category_name类别的price在每个year_month的求和\n",
    "result = df.groupby(['year_month', 'product_category_name'])['price'].sum().reset_index()\n",
    "\n",
    "# 使用pivot将数据重新排列，将product_category_name作为列名\n",
    "result_pivot = result.pivot(index='year_month', columns='product_category_name', values='price')\n",
    "\n",
    "# 填充缺失值为0\n",
    "result_pivot = result_pivot.fillna(0)\n",
    "\n",
    "# 重置索引\n",
    "result_pivot.reset_index(inplace=True)"
   ]
  },
  {
   "cell_type": "code",
   "execution_count": 7,
   "id": "99503e02",
   "metadata": {
    "scrolled": true
   },
   "outputs": [
    {
     "name": "stdout",
     "output_type": "stream",
     "text": [
      "     year_month                              product_category_name     price\n",
      "0       2016-09                                                 AT      0.00\n",
      "1       2016-09                                      beauty_health     44.99\n",
      "2       2016-09                                furniture_decoracao     39.99\n",
      "3       2016-09                                          telephony     59.50\n",
      "4       2016-10                                                 AT     65.89\n",
      "...         ...                                                ...       ...\n",
      "1275    2018-08                                               toys  15967.18\n",
      "1276    2018-08                                      watches_gifts  69995.81\n",
      "1277    2018-09                                                 AT      0.00\n",
      "1278    2018-09  furniture_cozinha_area_de_servico_jantar_e_jardim    145.00\n",
      "1279    2018-10                                                 AT      0.00\n",
      "\n",
      "[1280 rows x 3 columns]\n"
     ]
    }
   ],
   "source": [
    "print(result)"
   ]
  },
  {
   "cell_type": "code",
   "execution_count": 12,
   "id": "91aa8258",
   "metadata": {},
   "outputs": [],
   "source": [
    "# 保存结果到Excel文件\n",
    "output_file_path = r'D:\\EBAC\\EBA5002 Business Analytics Practice\\EBA2.5 BAP Practice Project\\Analysis\\sales_amount_result_pivot.xlsx'\n",
    "result_pivot.to_excel(output_file_path, index=False)"
   ]
  },
  {
   "cell_type": "code",
   "execution_count": null,
   "id": "aa7b49ee",
   "metadata": {},
   "outputs": [],
   "source": []
  }
 ],
 "metadata": {
  "kernelspec": {
   "display_name": "Python 3 (ipykernel)",
   "language": "python",
   "name": "python3"
  },
  "language_info": {
   "codemirror_mode": {
    "name": "ipython",
    "version": 3
   },
   "file_extension": ".py",
   "mimetype": "text/x-python",
   "name": "python",
   "nbconvert_exporter": "python",
   "pygments_lexer": "ipython3",
   "version": "3.11.4"
  }
 },
 "nbformat": 4,
 "nbformat_minor": 5
}
